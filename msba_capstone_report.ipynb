{
 "cells": [
  {
   "metadata": {},
   "cell_type": "markdown",
   "source": [
    "# **Reducing Traffic Mortality in the USA**\n",
    "\n",
    "Note that the data used for this report is from the year 2022\n",
    "\n",
    "By **Mike Musas**    |    *August 10, 2024*"
   ],
   "id": "e82c7f32ad3cffec"
  },
  {
   "metadata": {},
   "cell_type": "markdown",
   "source": [
    "## **1. Introduction**\n",
    "\n",
    "Traffic mortality has been a public health issue in the United States, with thousands of individuals dying each year due to various factors contributing to road accidents. This project aims to identify the leading causes of traffic fatalities and recommend effective strategies to reduce the number of deaths on American roads.\n",
    "\n",
    "The project will examine the leading contributors to traffic fatalities, including speeding, drunk driving, and distracted driving. Speeding remains one of the most significant factors, as higher speeds reduce the driver’s ability to react to sudden changes and increase the severity of accidents. Drunk driving is another major cause, with impaired judgment and delayed reaction times leading to a higher likelihood of crashes. Distracted driving, often due to mobile phone use or other in-vehicle distractions, has also emerged as a critical concern in recent years.\n",
    "\n",
    "**The project also aims to answer the following questions:**\n",
    "\n",
    "* How has the total number of traffic fatalities changed over the past years?\n",
    "* What are the age and gender distributions of traffic mortality victims?\n",
    "* How does traffic mortality vary by state or region?\n",
    "* Do the number of fatalities correlates with the population of regions?\n",
    "* How does the fatality rate varies between rural and urban areas?\n",
    "* What are the leading causes of traffic fatalities in the USA in 2022?\n",
    "\n",
    "To answer all these questions, we are making use of Tableau desktop (for data visualization and also to create our report) and Bigquery (to create our database and store all the tables we are using)."
   ],
   "id": "48996bf573921dc6"
  },
  {
   "metadata": {},
   "cell_type": "markdown",
   "source": [
    "## **2. About the Data**\n",
    "\n",
    "### **2.a Database and Source**\n",
    "\n",
    "The data used to answer the project’s questions come from the [National Highway Traffic Safety Administration](https://www.nhtsa.gov/file-downloads?p=nhtsa/downloads/FARS/) or NHTSA website. The data is comprised of 33 tables. However, 8 tables were used to answer our questions. Before doing our analysis, the data had to go through a cleaning process where the necessary number of columns were selected from every table."
   ],
   "id": "54373619c9b6c428"
  },
  {
   "metadata": {},
   "cell_type": "markdown",
   "source": [
    "### **2.b Entity-Relationship Diagram (ERD)**\n",
    " \n",
    "The image below shows the entity-relationship diagram or ERD of the database used in this project. The ERD picture the relationship below all the tables in the database. This helps us understand the structure of the database and also understand how we can link different tables together. Note that the ERD below only shows a couple of columns for some of the tables. The reason behind this is to make sure everything is visible on the image."
   ],
   "id": "14ef75ad9ef4db23"
  },
  {
   "metadata": {},
   "cell_type": "markdown",
   "source": [
    "\n",
    "<img src=\"Assets/msba_capston_diagram.png\" alt=\"drawing\" width=\"1000\"/>\n",
    "\n",
    "<p>.</p>"
   ],
   "id": "e2ee1d6e79022df"
  },
  {
   "metadata": {},
   "cell_type": "markdown",
   "source": [
    "## **3. Exploratory Data Analysis**\n",
    "\n",
    "### **3.a There has been an Upward Trend in the total fatalities on the U.S.A. from 2010 to 2022**\n",
    "\n",
    "Although the number of fatalities slightly decreased (**-1.68%**) in 2022 compared to 2021, the total number of death due to road traffic is huge and needs to be addressed as soon as possible. There were a total of **42,514 individuals who died in 2022**."
   ],
   "id": "cb27a70222d4d6d3"
  },
  {
   "metadata": {},
   "cell_type": "markdown",
   "source": [
    "<img src=\"Assets/Total Fatalities Over the Years, from 2010 to 2022.png\" alt=\"drawing\" width=\"1000\"/>\n",
    "\n",
    "<p>.</p>"
   ],
   "id": "e56165f52f12562d"
  },
  {
   "metadata": {},
   "cell_type": "markdown",
   "source": [
    "In 2010, the total number of road fatalities stood at 32,999. This figure remained relatively stable over the next few years, with minor fluctuations observed until 2014. This stability suggests that existing road safety measures during this period were relatively effective in maintaining a consistent number of fatalities.\n",
    "\n",
    "Starting from 2015, there is a noticeable and steady increase in the number of road fatalities. This upward trend continues, reaching its peak in 2021 with a total of 43,230 fatalities. The increase during this period raises significant concerns about the effectiveness of road safety policies and the potential impact of other factors such as increased vehicle usage, distracted driving, or infrastructure issues.\n",
    "\n",
    "In 2022, there is a slight decrease in road fatalities to 42,514, down from the peak observed in the previous year. While this reduction is a positive sign, the overall number of fatalities remains high, indicating that further measures are necessary to achieve a more substantial and sustained decrease.\n",
    "\n",
    "The trend in US road fatalities from 2010 to 2022 highlights both periods of stability and significant increases, culminating in a peak in 2021. Despite a slight reduction in 2022, the overall trend underscores the critical need for comprehensive and proactive approaches to road safety to protect lives and reduce the number of fatalities on US roads."
   ],
   "id": "9807f60bc5a1cb2c"
  },
  {
   "metadata": {},
   "cell_type": "markdown",
   "source": [
    "### **3.b How do traffic fatalities vary by demographic factors such as age, gender, and location?**\n",
    "\n"
   ],
   "id": "c4af3d62dff04976"
  },
  {
   "cell_type": "code",
   "id": "initial_id",
   "metadata": {
    "collapsed": true,
    "ExecuteTime": {
     "end_time": "2024-07-23T08:22:10.171145Z",
     "start_time": "2024-07-23T08:22:10.081706Z"
    }
   },
   "source": [
    "from sqlalchemy import create_engine\n",
    "import pandas as pd"
   ],
   "outputs": [],
   "execution_count": 1
  },
  {
   "metadata": {
    "ExecuteTime": {
     "end_time": "2024-07-23T08:23:02.394664Z",
     "start_time": "2024-07-23T08:23:02.351667Z"
    }
   },
   "cell_type": "code",
   "source": [
    "db_name = 'nhtsa'\n",
    "db_host = 'localhost'\n",
    "db_username = 'root'\n",
    "db_password = 'tennisset10'\n",
    "\n",
    "\n",
    "# Replace these variables with your database configuration\n",
    "db_type = 'mysql+pymysql'\n",
    "username = 'root'\n",
    "password = 'tennisset10'\n",
    "host = 'localhost'\n",
    "port = '3306'\n",
    "database = 'nhtsa'\n",
    "\n",
    "# Create the database engine\n",
    "engine = create_engine(f'{db_type}://{username}:{password}@{host}:{port}/{database}')"
   ],
   "id": "a34e2298dd5ffecb",
   "outputs": [],
   "execution_count": 2
  },
  {
   "metadata": {},
   "cell_type": "markdown",
   "source": "#### **Fatalities by Gender**",
   "id": "db6377269a398353"
  },
  {
   "metadata": {
    "ExecuteTime": {
     "end_time": "2024-07-23T08:34:36.918499Z",
     "start_time": "2024-07-23T08:34:36.796359Z"
    }
   },
   "cell_type": "code",
   "source": [
    "fatalities_by_gender = pd.read_sql_query(\"\"\"\n",
    "    WITH fatalities_by_gender AS (\n",
    "        SELECT\n",
    "            p.sex,\n",
    "            COUNT(*) AS total_fatalities\n",
    "        FROM nhtsa.accidents AS a\n",
    "        INNER JOIN nhtsa.persons AS p\n",
    "            ON a.st_case = p.st_case\n",
    "        WHERE p.died_at_scene_en_route IN ('Died at Scene', 'Died En Route')\n",
    "            AND p.sex IN ('Male', 'Female')\n",
    "            AND p.age < 120\n",
    "        GROUP BY p.sex\n",
    "    )\n",
    "    SELECT\n",
    "        sex,\n",
    "        total_fatalities,\n",
    "        total_fatalities / (SELECT SUM(total_fatalities) FROM fatalities_by_gender) * 100 AS percentage_of_total_fatalities\n",
    "    FROM fatalities_by_gender;\n",
    "\"\"\", engine)"
   ],
   "id": "91c8ac0ec4a3be29",
   "outputs": [],
   "execution_count": 11
  },
  {
   "metadata": {
    "ExecuteTime": {
     "end_time": "2024-07-23T08:34:41.483015Z",
     "start_time": "2024-07-23T08:34:41.477577Z"
    }
   },
   "cell_type": "code",
   "source": "fatalities_by_gender",
   "id": "fcc73a6855de470e",
   "outputs": [
    {
     "data": {
      "text/plain": [
       "      sex  total_fatalities  percentage_of_total_fatalities\n",
       "0    Male             17909                         73.2504\n",
       "1  Female              6540                         26.7496"
      ],
      "text/html": [
       "<div>\n",
       "<style scoped>\n",
       "    .dataframe tbody tr th:only-of-type {\n",
       "        vertical-align: middle;\n",
       "    }\n",
       "\n",
       "    .dataframe tbody tr th {\n",
       "        vertical-align: top;\n",
       "    }\n",
       "\n",
       "    .dataframe thead th {\n",
       "        text-align: right;\n",
       "    }\n",
       "</style>\n",
       "<table border=\"1\" class=\"dataframe\">\n",
       "  <thead>\n",
       "    <tr style=\"text-align: right;\">\n",
       "      <th></th>\n",
       "      <th>sex</th>\n",
       "      <th>total_fatalities</th>\n",
       "      <th>percentage_of_total_fatalities</th>\n",
       "    </tr>\n",
       "  </thead>\n",
       "  <tbody>\n",
       "    <tr>\n",
       "      <th>0</th>\n",
       "      <td>Male</td>\n",
       "      <td>17909</td>\n",
       "      <td>73.2504</td>\n",
       "    </tr>\n",
       "    <tr>\n",
       "      <th>1</th>\n",
       "      <td>Female</td>\n",
       "      <td>6540</td>\n",
       "      <td>26.7496</td>\n",
       "    </tr>\n",
       "  </tbody>\n",
       "</table>\n",
       "</div>"
      ]
     },
     "execution_count": 12,
     "metadata": {},
     "output_type": "execute_result"
    }
   ],
   "execution_count": 12
  },
  {
   "metadata": {},
   "cell_type": "markdown",
   "source": [
    "# **73.25%**\n",
    "of people who died in a car accident in 2022 in the USA were **males** compared to only 26.75% of females."
   ],
   "id": "7e9b48c51535adec"
  },
  {
   "metadata": {},
   "cell_type": "markdown",
   "source": "#### Fatalities by Urban and Rural",
   "id": "3f29d32a70b5a2e3"
  },
  {
   "metadata": {
    "ExecuteTime": {
     "end_time": "2024-07-23T08:38:38.160173Z",
     "start_time": "2024-07-23T08:38:38.062966Z"
    }
   },
   "cell_type": "code",
   "source": [
    "fatalities_urban_rural = pd.read_sql_query(\"\"\"\n",
    "    SELECT\n",
    "        rural_urban,\n",
    "        SUM(fatals) AS total_fatalities,\n",
    "        SUM(fatals) / (SELECT SUM(fatals) FROM nhtsa.accidents WHERE rural_urban IS NOT NULL) * 100 AS percentage_of_total_fatalities\n",
    "    FROM nhtsa.accidents AS a\n",
    "    WHERE rural_urban IS NOT NULL\n",
    "    GROUP BY rural_urban;\n",
    "\"\"\", engine)"
   ],
   "id": "228ac054f52f9eca",
   "outputs": [],
   "execution_count": 13
  },
  {
   "metadata": {
    "ExecuteTime": {
     "end_time": "2024-07-23T08:38:44.797909Z",
     "start_time": "2024-07-23T08:38:44.792635Z"
    }
   },
   "cell_type": "code",
   "source": "fatalities_urban_rural",
   "id": "71504a1b254d975a",
   "outputs": [
    {
     "data": {
      "text/plain": [
       "  rural_urban  total_fatalities  percentage_of_total_fatalities\n",
       "0       Rural           17283.0                       40.852361\n",
       "1       Urban           25023.0                       59.147639"
      ],
      "text/html": [
       "<div>\n",
       "<style scoped>\n",
       "    .dataframe tbody tr th:only-of-type {\n",
       "        vertical-align: middle;\n",
       "    }\n",
       "\n",
       "    .dataframe tbody tr th {\n",
       "        vertical-align: top;\n",
       "    }\n",
       "\n",
       "    .dataframe thead th {\n",
       "        text-align: right;\n",
       "    }\n",
       "</style>\n",
       "<table border=\"1\" class=\"dataframe\">\n",
       "  <thead>\n",
       "    <tr style=\"text-align: right;\">\n",
       "      <th></th>\n",
       "      <th>rural_urban</th>\n",
       "      <th>total_fatalities</th>\n",
       "      <th>percentage_of_total_fatalities</th>\n",
       "    </tr>\n",
       "  </thead>\n",
       "  <tbody>\n",
       "    <tr>\n",
       "      <th>0</th>\n",
       "      <td>Rural</td>\n",
       "      <td>17283.0</td>\n",
       "      <td>40.852361</td>\n",
       "    </tr>\n",
       "    <tr>\n",
       "      <th>1</th>\n",
       "      <td>Urban</td>\n",
       "      <td>25023.0</td>\n",
       "      <td>59.147639</td>\n",
       "    </tr>\n",
       "  </tbody>\n",
       "</table>\n",
       "</div>"
      ]
     },
     "execution_count": 14,
     "metadata": {},
     "output_type": "execute_result"
    }
   ],
   "execution_count": 14
  },
  {
   "metadata": {},
   "cell_type": "markdown",
   "source": [
    "# **59.15%**\n",
    "of fatalities on US roads happened in **urban** areas compared to 40.85% in rural areas"
   ],
   "id": "4161fe7ef7a4c488"
  },
  {
   "metadata": {},
   "cell_type": "markdown",
   "source": "#### **Fatalities by Age Group**",
   "id": "f7ac3b5582c2a41b"
  },
  {
   "metadata": {
    "ExecuteTime": {
     "end_time": "2024-07-23T08:41:12.095824Z",
     "start_time": "2024-07-23T08:41:11.899103Z"
    }
   },
   "cell_type": "code",
   "source": [
    "fatalities_by_age = pd.read_sql_query(\n",
    "    '''\n",
    "    SELECT\n",
    "        CASE\n",
    "            WHEN p.age >= 0 AND p.age < 12 THEN '0 >= Age < 12'\n",
    "            WHEN p.age >= 12 AND p.age < 24 THEN '12 >= Age < 24'\n",
    "            WHEN p.age >= 24 AND p.age < 36 THEN '24 >= Age < 36'\n",
    "            WHEN p.age >= 36 AND p.age < 48 THEN '36 >= Age < 48'\n",
    "            WHEN p.age >= 48 AND p.age < 60 THEN '48 >= Age < 60'\n",
    "            WHEN p.age >= 60 AND p.age < 72 THEN '60 >= Age < 72'\n",
    "            WHEN p.age >= 72 AND p.age < 84 THEN '72 >= Age < 84'\n",
    "            WHEN p.age >= 84 AND p.age < 96 THEN '84 >= Age < 96'\n",
    "            WHEN p.age >= 96 AND p.age < 108 THEN '96 >= Age < 108'\n",
    "            ELSE 'Unknown Age'\n",
    "        END AS age_range,\n",
    "        COUNT(*) AS total_fatalities\n",
    "    FROM accidents AS a\n",
    "    INNER JOIN persons AS p\n",
    "        ON a.st_case = p.st_case\n",
    "    WHERE\n",
    "        p.died_at_scene_en_route IN ('Died at Scene', 'Died En Route')\n",
    "        AND p.age < 120\n",
    "    GROUP BY\n",
    "        CASE\n",
    "            WHEN p.age >= 0 AND p.age < 12 THEN '0 >= Age < 12'\n",
    "            WHEN p.age >= 12 AND p.age < 24 THEN '12 >= Age < 24'\n",
    "            WHEN p.age >= 24 AND p.age < 36 THEN '24 >= Age < 36'\n",
    "            WHEN p.age >= 36 AND p.age < 48 THEN '36 >= Age < 48'\n",
    "            WHEN p.age >= 48 AND p.age < 60 THEN '48 >= Age < 60'\n",
    "            WHEN p.age >= 60 AND p.age < 72 THEN '60 >= Age < 72'\n",
    "            WHEN p.age >= 72 AND p.age < 84 THEN '72 >= Age < 84'\n",
    "            WHEN p.age >= 84 AND p.age < 96 THEN '84 >= Age < 96'\n",
    "            WHEN p.age >= 96 AND p.age < 108 THEN '96 >= Age < 108'\n",
    "            ELSE 'Unknown Age'\n",
    "        END\n",
    "    ORDER BY total_fatalities DESC;\n",
    "''', engine)"
   ],
   "id": "2cb4538f6c830259",
   "outputs": [],
   "execution_count": 15
  },
  {
   "metadata": {
    "ExecuteTime": {
     "end_time": "2024-07-23T08:41:19.113553Z",
     "start_time": "2024-07-23T08:41:19.107651Z"
    }
   },
   "cell_type": "code",
   "source": "fatalities_by_age",
   "id": "2b468f8ca7dcac26",
   "outputs": [
    {
     "data": {
      "text/plain": [
       "         age_range  total_fatalities\n",
       "0   24 >= Age < 36              6265\n",
       "1   36 >= Age < 48              4854\n",
       "2   48 >= Age < 60              4106\n",
       "3   12 >= Age < 24              4005\n",
       "4   60 >= Age < 72              3147\n",
       "5   72 >= Age < 84              1410\n",
       "6   84 >= Age < 96               348\n",
       "7    0 >= Age < 12               325\n",
       "8  96 >= Age < 108                16"
      ],
      "text/html": [
       "<div>\n",
       "<style scoped>\n",
       "    .dataframe tbody tr th:only-of-type {\n",
       "        vertical-align: middle;\n",
       "    }\n",
       "\n",
       "    .dataframe tbody tr th {\n",
       "        vertical-align: top;\n",
       "    }\n",
       "\n",
       "    .dataframe thead th {\n",
       "        text-align: right;\n",
       "    }\n",
       "</style>\n",
       "<table border=\"1\" class=\"dataframe\">\n",
       "  <thead>\n",
       "    <tr style=\"text-align: right;\">\n",
       "      <th></th>\n",
       "      <th>age_range</th>\n",
       "      <th>total_fatalities</th>\n",
       "    </tr>\n",
       "  </thead>\n",
       "  <tbody>\n",
       "    <tr>\n",
       "      <th>0</th>\n",
       "      <td>24 &gt;= Age &lt; 36</td>\n",
       "      <td>6265</td>\n",
       "    </tr>\n",
       "    <tr>\n",
       "      <th>1</th>\n",
       "      <td>36 &gt;= Age &lt; 48</td>\n",
       "      <td>4854</td>\n",
       "    </tr>\n",
       "    <tr>\n",
       "      <th>2</th>\n",
       "      <td>48 &gt;= Age &lt; 60</td>\n",
       "      <td>4106</td>\n",
       "    </tr>\n",
       "    <tr>\n",
       "      <th>3</th>\n",
       "      <td>12 &gt;= Age &lt; 24</td>\n",
       "      <td>4005</td>\n",
       "    </tr>\n",
       "    <tr>\n",
       "      <th>4</th>\n",
       "      <td>60 &gt;= Age &lt; 72</td>\n",
       "      <td>3147</td>\n",
       "    </tr>\n",
       "    <tr>\n",
       "      <th>5</th>\n",
       "      <td>72 &gt;= Age &lt; 84</td>\n",
       "      <td>1410</td>\n",
       "    </tr>\n",
       "    <tr>\n",
       "      <th>6</th>\n",
       "      <td>84 &gt;= Age &lt; 96</td>\n",
       "      <td>348</td>\n",
       "    </tr>\n",
       "    <tr>\n",
       "      <th>7</th>\n",
       "      <td>0 &gt;= Age &lt; 12</td>\n",
       "      <td>325</td>\n",
       "    </tr>\n",
       "    <tr>\n",
       "      <th>8</th>\n",
       "      <td>96 &gt;= Age &lt; 108</td>\n",
       "      <td>16</td>\n",
       "    </tr>\n",
       "  </tbody>\n",
       "</table>\n",
       "</div>"
      ]
     },
     "execution_count": 16,
     "metadata": {},
     "output_type": "execute_result"
    }
   ],
   "execution_count": 16
  },
  {
   "metadata": {},
   "cell_type": "markdown",
   "source": [
    "<img src=\"Assets/Total Number of Fatalities by Age Groups.png\" alt=\"drawing\" width=\"1000\"/>\n",
    "\n",
    "<p>.</p>"
   ],
   "id": "5d5ebd9a6543eb0f"
  },
  {
   "metadata": {},
   "cell_type": "markdown",
   "source": [
    "The distribution of traffic fatalities across different age ranges shows that certain age groups are more vulnerable than others. **The data reveals tha the highest number of fatalities occurs in the age group 24 to 36, followed by 12 to 24 and 36 to 48**. It can also be seen that these are groups are made of young individuals. These age groups should be prioritized for targeted interventions.\n",
    "\n",
    "Young people are more prompt to be in front of the car wheel compare to other groups. This is also one reason the top three groups are young. We should make sure that our young population is well informed and educated about the risks and consequencies of not following traffic laws. \n",
    "\n",
    "The group with the smallest number of fatalities were olders and children. A total of 1,602 helder people died in 2022 due on the road were 84 years old or older, they are making 3.77% of the total fatalities while children under the age of 12 years old or below made 10.41%. Most individuals tend to driver very careful when there is a child in the car compared to when there is not."
   ],
   "id": "539da96c4e1c9572"
  },
  {
   "metadata": {},
   "cell_type": "markdown",
   "source": "#### **Fatalities by State**",
   "id": "fd1022d5308b4422"
  },
  {
   "metadata": {
    "ExecuteTime": {
     "end_time": "2024-07-23T08:46:09.916501Z",
     "start_time": "2024-07-23T08:46:09.849089Z"
    }
   },
   "cell_type": "code",
   "source": [
    "fatalities_by_state = pd.read_sql_query(\"\"\"\n",
    "    SELECT\n",
    "        a.state,\n",
    "        SUM(a.fatals) AS total_fatalities\n",
    "    FROM nhtsa.accidents AS a\n",
    "    WHERE a.state IS NOT NULL\n",
    "    GROUP BY a.state\n",
    "    ORDER BY total_fatalities DESC;\n",
    "\"\"\", engine)"
   ],
   "id": "eb68cec1e9e37df0",
   "outputs": [],
   "execution_count": 19
  },
  {
   "metadata": {
    "ExecuteTime": {
     "end_time": "2024-07-23T08:46:16.758375Z",
     "start_time": "2024-07-23T08:46:16.750050Z"
    }
   },
   "cell_type": "code",
   "source": "fatalities_by_state",
   "id": "ca35573d23e2f4ce",
   "outputs": [
    {
     "data": {
      "text/plain": [
       "                   state  total_fatalities\n",
       "0             California            4428.0\n",
       "1                  Texas            4408.0\n",
       "2                Florida            3530.0\n",
       "3                Georgia            1797.0\n",
       "4         North Carolina            1630.0\n",
       "5              Tennessee            1314.0\n",
       "6                Arizona            1302.0\n",
       "7                   Ohio            1275.0\n",
       "8               Illinois            1268.0\n",
       "9           Pennsylvania            1179.0\n",
       "10              New York            1175.0\n",
       "11              Michigan            1124.0\n",
       "12        South Carolina            1094.0\n",
       "13              Missouri            1057.0\n",
       "14              Virginia            1008.0\n",
       "15               Alabama             988.0\n",
       "16               Indiana             949.0\n",
       "17             Louisiana             906.0\n",
       "18              Colorado             764.0\n",
       "19              Kentucky             744.0\n",
       "20            Washington             733.0\n",
       "21              Oklahoma             710.0\n",
       "22           Mississippi             703.0\n",
       "23            New Jersey             685.0\n",
       "24              Arkansas             643.0\n",
       "25                Oregon             601.0\n",
       "26             Wisconsin             596.0\n",
       "27              Maryland             564.0\n",
       "28            New Mexico             466.0\n",
       "29             Minnesota             444.0\n",
       "30         Massachusetts             434.0\n",
       "31                Nevada             416.0\n",
       "32                Kansas             410.0\n",
       "33           Connecticut             359.0\n",
       "34                  Iowa             338.0\n",
       "35                  Utah             319.0\n",
       "36         West Virginia             264.0\n",
       "37              Nebraska             244.0\n",
       "38                 Idaho             215.0\n",
       "39               Montana             213.0\n",
       "40                 Maine             182.0\n",
       "41              Delaware             162.0\n",
       "42         New Hampshire             146.0\n",
       "43          South Dakota             137.0\n",
       "44               Wyoming             134.0\n",
       "45                Hawaii             116.0\n",
       "46          North Dakota              98.0\n",
       "47                Alaska              82.0\n",
       "48               Vermont              76.0\n",
       "49          Rhode Island              52.0\n",
       "50  District of Columbia              32.0"
      ],
      "text/html": [
       "<div>\n",
       "<style scoped>\n",
       "    .dataframe tbody tr th:only-of-type {\n",
       "        vertical-align: middle;\n",
       "    }\n",
       "\n",
       "    .dataframe tbody tr th {\n",
       "        vertical-align: top;\n",
       "    }\n",
       "\n",
       "    .dataframe thead th {\n",
       "        text-align: right;\n",
       "    }\n",
       "</style>\n",
       "<table border=\"1\" class=\"dataframe\">\n",
       "  <thead>\n",
       "    <tr style=\"text-align: right;\">\n",
       "      <th></th>\n",
       "      <th>state</th>\n",
       "      <th>total_fatalities</th>\n",
       "    </tr>\n",
       "  </thead>\n",
       "  <tbody>\n",
       "    <tr>\n",
       "      <th>0</th>\n",
       "      <td>California</td>\n",
       "      <td>4428.0</td>\n",
       "    </tr>\n",
       "    <tr>\n",
       "      <th>1</th>\n",
       "      <td>Texas</td>\n",
       "      <td>4408.0</td>\n",
       "    </tr>\n",
       "    <tr>\n",
       "      <th>2</th>\n",
       "      <td>Florida</td>\n",
       "      <td>3530.0</td>\n",
       "    </tr>\n",
       "    <tr>\n",
       "      <th>3</th>\n",
       "      <td>Georgia</td>\n",
       "      <td>1797.0</td>\n",
       "    </tr>\n",
       "    <tr>\n",
       "      <th>4</th>\n",
       "      <td>North Carolina</td>\n",
       "      <td>1630.0</td>\n",
       "    </tr>\n",
       "    <tr>\n",
       "      <th>5</th>\n",
       "      <td>Tennessee</td>\n",
       "      <td>1314.0</td>\n",
       "    </tr>\n",
       "    <tr>\n",
       "      <th>6</th>\n",
       "      <td>Arizona</td>\n",
       "      <td>1302.0</td>\n",
       "    </tr>\n",
       "    <tr>\n",
       "      <th>7</th>\n",
       "      <td>Ohio</td>\n",
       "      <td>1275.0</td>\n",
       "    </tr>\n",
       "    <tr>\n",
       "      <th>8</th>\n",
       "      <td>Illinois</td>\n",
       "      <td>1268.0</td>\n",
       "    </tr>\n",
       "    <tr>\n",
       "      <th>9</th>\n",
       "      <td>Pennsylvania</td>\n",
       "      <td>1179.0</td>\n",
       "    </tr>\n",
       "    <tr>\n",
       "      <th>10</th>\n",
       "      <td>New York</td>\n",
       "      <td>1175.0</td>\n",
       "    </tr>\n",
       "    <tr>\n",
       "      <th>11</th>\n",
       "      <td>Michigan</td>\n",
       "      <td>1124.0</td>\n",
       "    </tr>\n",
       "    <tr>\n",
       "      <th>12</th>\n",
       "      <td>South Carolina</td>\n",
       "      <td>1094.0</td>\n",
       "    </tr>\n",
       "    <tr>\n",
       "      <th>13</th>\n",
       "      <td>Missouri</td>\n",
       "      <td>1057.0</td>\n",
       "    </tr>\n",
       "    <tr>\n",
       "      <th>14</th>\n",
       "      <td>Virginia</td>\n",
       "      <td>1008.0</td>\n",
       "    </tr>\n",
       "    <tr>\n",
       "      <th>15</th>\n",
       "      <td>Alabama</td>\n",
       "      <td>988.0</td>\n",
       "    </tr>\n",
       "    <tr>\n",
       "      <th>16</th>\n",
       "      <td>Indiana</td>\n",
       "      <td>949.0</td>\n",
       "    </tr>\n",
       "    <tr>\n",
       "      <th>17</th>\n",
       "      <td>Louisiana</td>\n",
       "      <td>906.0</td>\n",
       "    </tr>\n",
       "    <tr>\n",
       "      <th>18</th>\n",
       "      <td>Colorado</td>\n",
       "      <td>764.0</td>\n",
       "    </tr>\n",
       "    <tr>\n",
       "      <th>19</th>\n",
       "      <td>Kentucky</td>\n",
       "      <td>744.0</td>\n",
       "    </tr>\n",
       "    <tr>\n",
       "      <th>20</th>\n",
       "      <td>Washington</td>\n",
       "      <td>733.0</td>\n",
       "    </tr>\n",
       "    <tr>\n",
       "      <th>21</th>\n",
       "      <td>Oklahoma</td>\n",
       "      <td>710.0</td>\n",
       "    </tr>\n",
       "    <tr>\n",
       "      <th>22</th>\n",
       "      <td>Mississippi</td>\n",
       "      <td>703.0</td>\n",
       "    </tr>\n",
       "    <tr>\n",
       "      <th>23</th>\n",
       "      <td>New Jersey</td>\n",
       "      <td>685.0</td>\n",
       "    </tr>\n",
       "    <tr>\n",
       "      <th>24</th>\n",
       "      <td>Arkansas</td>\n",
       "      <td>643.0</td>\n",
       "    </tr>\n",
       "    <tr>\n",
       "      <th>25</th>\n",
       "      <td>Oregon</td>\n",
       "      <td>601.0</td>\n",
       "    </tr>\n",
       "    <tr>\n",
       "      <th>26</th>\n",
       "      <td>Wisconsin</td>\n",
       "      <td>596.0</td>\n",
       "    </tr>\n",
       "    <tr>\n",
       "      <th>27</th>\n",
       "      <td>Maryland</td>\n",
       "      <td>564.0</td>\n",
       "    </tr>\n",
       "    <tr>\n",
       "      <th>28</th>\n",
       "      <td>New Mexico</td>\n",
       "      <td>466.0</td>\n",
       "    </tr>\n",
       "    <tr>\n",
       "      <th>29</th>\n",
       "      <td>Minnesota</td>\n",
       "      <td>444.0</td>\n",
       "    </tr>\n",
       "    <tr>\n",
       "      <th>30</th>\n",
       "      <td>Massachusetts</td>\n",
       "      <td>434.0</td>\n",
       "    </tr>\n",
       "    <tr>\n",
       "      <th>31</th>\n",
       "      <td>Nevada</td>\n",
       "      <td>416.0</td>\n",
       "    </tr>\n",
       "    <tr>\n",
       "      <th>32</th>\n",
       "      <td>Kansas</td>\n",
       "      <td>410.0</td>\n",
       "    </tr>\n",
       "    <tr>\n",
       "      <th>33</th>\n",
       "      <td>Connecticut</td>\n",
       "      <td>359.0</td>\n",
       "    </tr>\n",
       "    <tr>\n",
       "      <th>34</th>\n",
       "      <td>Iowa</td>\n",
       "      <td>338.0</td>\n",
       "    </tr>\n",
       "    <tr>\n",
       "      <th>35</th>\n",
       "      <td>Utah</td>\n",
       "      <td>319.0</td>\n",
       "    </tr>\n",
       "    <tr>\n",
       "      <th>36</th>\n",
       "      <td>West Virginia</td>\n",
       "      <td>264.0</td>\n",
       "    </tr>\n",
       "    <tr>\n",
       "      <th>37</th>\n",
       "      <td>Nebraska</td>\n",
       "      <td>244.0</td>\n",
       "    </tr>\n",
       "    <tr>\n",
       "      <th>38</th>\n",
       "      <td>Idaho</td>\n",
       "      <td>215.0</td>\n",
       "    </tr>\n",
       "    <tr>\n",
       "      <th>39</th>\n",
       "      <td>Montana</td>\n",
       "      <td>213.0</td>\n",
       "    </tr>\n",
       "    <tr>\n",
       "      <th>40</th>\n",
       "      <td>Maine</td>\n",
       "      <td>182.0</td>\n",
       "    </tr>\n",
       "    <tr>\n",
       "      <th>41</th>\n",
       "      <td>Delaware</td>\n",
       "      <td>162.0</td>\n",
       "    </tr>\n",
       "    <tr>\n",
       "      <th>42</th>\n",
       "      <td>New Hampshire</td>\n",
       "      <td>146.0</td>\n",
       "    </tr>\n",
       "    <tr>\n",
       "      <th>43</th>\n",
       "      <td>South Dakota</td>\n",
       "      <td>137.0</td>\n",
       "    </tr>\n",
       "    <tr>\n",
       "      <th>44</th>\n",
       "      <td>Wyoming</td>\n",
       "      <td>134.0</td>\n",
       "    </tr>\n",
       "    <tr>\n",
       "      <th>45</th>\n",
       "      <td>Hawaii</td>\n",
       "      <td>116.0</td>\n",
       "    </tr>\n",
       "    <tr>\n",
       "      <th>46</th>\n",
       "      <td>North Dakota</td>\n",
       "      <td>98.0</td>\n",
       "    </tr>\n",
       "    <tr>\n",
       "      <th>47</th>\n",
       "      <td>Alaska</td>\n",
       "      <td>82.0</td>\n",
       "    </tr>\n",
       "    <tr>\n",
       "      <th>48</th>\n",
       "      <td>Vermont</td>\n",
       "      <td>76.0</td>\n",
       "    </tr>\n",
       "    <tr>\n",
       "      <th>49</th>\n",
       "      <td>Rhode Island</td>\n",
       "      <td>52.0</td>\n",
       "    </tr>\n",
       "    <tr>\n",
       "      <th>50</th>\n",
       "      <td>District of Columbia</td>\n",
       "      <td>32.0</td>\n",
       "    </tr>\n",
       "  </tbody>\n",
       "</table>\n",
       "</div>"
      ]
     },
     "execution_count": 20,
     "metadata": {},
     "output_type": "execute_result"
    }
   ],
   "execution_count": 20
  },
  {
   "metadata": {},
   "cell_type": "markdown",
   "source": [
    "<img src=\"Assets/Total Number of Fatalities by State.png\" alt=\"drawing\" width=\"1000\"/>\n",
    "\n",
    "<p>.</p>"
   ],
   "id": "619fa0eb9272686c"
  },
  {
   "metadata": {},
   "cell_type": "markdown",
   "source": [
    "Most of the fatalities in the USA are in these three states California, Texas, and Florida. These states make 29.09% of the road fatalities. Their total of fatalities were 4,428, 4,408, and 3,530, which makes the state of California as the leading state.\n",
    "The District of Columbia showed the lowest number of deaths in the year 2022, with only 32 people who died on the road. The state is followed by the Rhode Island and Vermont states, with 52 and 76 deaths respectively."
   ],
   "id": "b93f684450e115aa"
  },
  {
   "metadata": {},
   "cell_type": "markdown",
   "source": [
    "<img src=\"Assets/Total Road Fatalities by Population Size.png\" alt=\"drawing\" width=\"1000\"/>\n",
    "\n",
    "<p>.</p>"
   ],
   "id": "156f82473edee9d5"
  },
  {
   "metadata": {},
   "cell_type": "markdown",
   "source": "It can also been seen in the graph above that there is a strong correlation between the total population of a state and the total road fatalities. States with high density population tend to experience a lot of road traffic deaths. The leading states are again California, Texas, and Florida. These states have a high population density, having 39, 30, and 22 million people respectively. These three states represent 27.40% of the USA total population.",
   "id": "af2b7e4f6da506cf"
  },
  {
   "metadata": {},
   "cell_type": "markdown",
   "source": "### **3.c Major Causes of Road Traffic Fatalities in the USA in 2022**",
   "id": "255ad4907a175c83"
  },
  {
   "metadata": {},
   "cell_type": "markdown",
   "source": "#### **Fatalities by Distractions**",
   "id": "32413c8af0fbda4"
  },
  {
   "metadata": {},
   "cell_type": "markdown",
   "source": [
    "<img src=\"Assets/Total Number of Fatalities by Distractions.png\" alt=\"drawing\" width=\"1000\"/>\n",
    "\n",
    "<p>.</p>"
   ],
   "id": "3cfca6f506fc9d0f"
  },
  {
   "metadata": {},
   "cell_type": "markdown",
   "source": [
    "Distractions while driving account for a large portion of road fatalities. Inattentive driving stands out as the most significant contributor, with a staggering 1,388 fatalities. This issue often stems from drivers losing focus on the road, whether due to fatigue, zoning out, or simply not paying enough attention. Closely following, distracted or careless driving claims 664 lives, illustrating how critical it is for drivers to maintain full attention on the task at hand.\n",
    "\n",
    "External distractions, such as being distracted by other people, objects, or events outside the vehicle, cause 289 fatalities. These distractions can range from roadside billboards to accidents on the other side of the highway. The use of mobile phones while driving is another major culprit, with 157 fatalities resulting from manipulating mobile phones and 131 from other mobile phone-related distractions. Even conversations with passengers can lead to fatal outcomes, with 131 fatalities attributed to distractions caused by other occupants in the vehicle.\n",
    "\n",
    "Using other vehicle components or controls integral to the vehicle leads to 133 fatalities, highlighting the risks involved in adjusting settings while driving. Additionally, activities such as eating or drinking, which may seem harmless, result in 49 fatalities. Adjusting audio or climate controls, lost in thought or daydreaming, objects moving inside the vehicle, and smoking are other distractions that contribute to the death toll, albeit in smaller numbers."
   ],
   "id": "bc1df67631d250bd"
  },
  {
   "metadata": {},
   "cell_type": "markdown",
   "source": [
    "<img src=\"Assets/Total Fatalities by Violations.png\" alt=\"drawing\" width=\"1000\"/>\n",
    "\n",
    "<p>.</p>"
   ],
   "id": "8e8cece91f7c9bc9"
  },
  {
   "metadata": {},
   "cell_type": "markdown",
   "source": [
    "Various traffic violations also contribute heavily to road fatalities. Manslaughter or homicide leads to 1,545 deaths, often resulting from extreme cases of reckless or aggressive driving. Driving while intoxicated, whether by alcohol or drugs, results in 1,359 fatalities, reinforcing the lethal combination of impaired driving and substance abuse.\n",
    "\n",
    "Failure to yield, a common traffic violation, causes 647 fatalities. This often happens when drivers do not give the right of way to other vehicles or pedestrians, leading to severe collisions. Inattentive, careless, or improper driving accounts for 612 fatalities, further highlighting the importance of maintaining focus and following traffic rules.\n",
    "\n",
    "Other driver license violations, including driving without a valid license, lead to 574 fatalities. Hit-and-run incidents, where drivers flee the scene of an accident, result in 498 fatalities. Such actions not only cause deaths but also reflect severe legal and ethical breaches. Willful reckless driving, including actions that endanger others, results in 478 fatalities, while serious violations resulting in death account for 468 fatalities.\n",
    "\n",
    "Lane violations, such as improper lane changes or not staying within designated lanes, cause 417 fatalities. Driving uninsured vehicles leads to 398 fatalities, emphasizing the necessity of legal compliance and responsible vehicle ownership."
   ],
   "id": "3bf7af23f007ef0e"
  },
  {
   "metadata": {},
   "cell_type": "markdown",
   "source": [
    "<img src=\"Assets/Top Drugs Involved in Accidents.png\" alt=\"drawing\" width=\"1000\"/>\n",
    "\n",
    "<p>.</p>"
   ],
   "id": "7d3f22f19111236a"
  },
  {
   "metadata": {},
   "cell_type": "markdown",
   "source": [
    "Drug use significantly exacerbates the risk of road accidents. Delta 9-tetrahydrocannabinol (THC), the psychoactive component of cannabis, is the most common drug involved in accidents, with 4,217 cases. This is followed by 11-nor-9-carboxy-delta-9-tetrahydrocannabinol (Carboxy THC), another cannabis metabolite, present in 3,633 cases. The prevalence of cannabis-related substances underscores the impact of marijuana on driving safety.\n",
    "\n",
    "Stimulants like amphetamines and methamphetamines are also major contributors, involved in 2,923 and 2,918 cases, respectively. These drugs can cause erratic behavior and impaired judgment, leading to dangerous driving conditions. The presence of Hydroxy-THC in 1,984 cases and unknown cannabinoids in 1,569 cases further emphasizes the widespread use of cannabis-related substances.\n",
    "\n",
    "Surprisingly, caffeine, typically consumed to enhance alertness, is involved in 1,564 cases. This could be due to excessive consumption leading to jitteriness or other adverse effects. Fentanyl, a powerful opioid, is present in 1,412 cases, highlighting the dangers of driving under the influence of strong painkillers. Other drugs like benzoylecgonine, a cocaine metabolite, and cocaine itself are involved in 1,222 and 1,131 cases, respectively, indicating the significant role of illicit drugs in road accidents."
   ],
   "id": "cad84fbf31dd9df0"
  },
  {
   "metadata": {},
   "cell_type": "markdown",
   "source": [
    "<img src=\"Assets/Percentage of Fatalities by Speeding.png\" alt=\"drawing\" width=\"1000\"/>\n",
    "\n",
    "<p>.</p>"
   ],
   "id": "7ec5f5ec28eb260a"
  },
  {
   "metadata": {},
   "cell_type": "markdown",
   "source": [
    "<img src=\"Assets/Percentage of Fatalities by Impairments.png\" alt=\"drawing\" width=\"1000\"/>\n",
    "\n",
    "<p>.</p>"
   ],
   "id": "9ffb355ddc5627c3"
  },
  {
   "metadata": {},
   "cell_type": "code",
   "outputs": [],
   "execution_count": null,
   "source": "",
   "id": "22893b0ef739b728"
  },
  {
   "metadata": {},
   "cell_type": "code",
   "outputs": [],
   "execution_count": null,
   "source": "",
   "id": "a9d3882ed4205c66"
  },
  {
   "metadata": {},
   "cell_type": "code",
   "outputs": [],
   "execution_count": null,
   "source": "",
   "id": "13666789f36d63d9"
  }
 ],
 "metadata": {
  "kernelspec": {
   "display_name": "Python 3",
   "language": "python",
   "name": "python3"
  },
  "language_info": {
   "codemirror_mode": {
    "name": "ipython",
    "version": 2
   },
   "file_extension": ".py",
   "mimetype": "text/x-python",
   "name": "python",
   "nbconvert_exporter": "python",
   "pygments_lexer": "ipython2",
   "version": "2.7.6"
  }
 },
 "nbformat": 4,
 "nbformat_minor": 5
}
