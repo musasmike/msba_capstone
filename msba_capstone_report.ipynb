{
 "cells": [
  {
   "metadata": {},
   "cell_type": "markdown",
   "source": [
    "# **Reducing Traffic Mortality in the USA**\n",
    "\n",
    "Note that the data used for this report is from the year 2022\n",
    "\n",
    "By **Mike Musas**    |    *August 10, 2024*"
   ],
   "id": "a6a9bc2fa47efcba"
  },
  {
   "metadata": {},
   "cell_type": "markdown",
   "source": [
    "## **1. Introduction**\n",
    "\n",
    "Traffic mortality has been a public health issue in the United States, with thousands of individuals dying each year due to various factors contributing to road accidents. This project aims to identify the leading causes of traffic fatalities and recommend effective strategies to reduce the number of deaths on American roads.\n",
    "\n",
    "The project will examine the leading contributors to traffic fatalities, including speeding, drunk driving, and distracted driving. Speeding remains one of the most significant factors, as higher speeds reduce the driver’s ability to react to sudden changes and increase the severity of accidents. Drunk driving is another major cause, with impaired judgment and delayed reaction times leading to a higher likelihood of crashes. Distracted driving, often due to mobile phone use or other in-vehicle distractions, has also emerged as a critical concern in recent years.\n",
    "\n",
    "**The project also aims to answer the following questions:**\n",
    "\n",
    "* How has the total number of traffic fatalities changed over the past years?\n",
    "* What are the age and gender distributions of traffic mortality victims?\n",
    "* How does traffic mortality vary by state or region?\n",
    "* Do the number of fatalities correlates with the population of regions?\n",
    "* How does the fatality rate varies between rural and urban areas?\n",
    "* What are the leading causes of traffic fatalities in the USA in 2022?\n",
    "\n",
    "To answer all these questions, we are making use of Tableau desktop (for data visualization and also to create our report) and Bigquery (to create our database and store all the tables we are using)."
   ],
   "id": "b2d23c79101e3dd2"
  },
  {
   "metadata": {},
   "cell_type": "markdown",
   "source": [
    "## **2. About the Data**\n",
    "\n",
    "### **2.a Database and Source**\n",
    "\n",
    "The data used to answer the project’s questions come from the [National Highway Traffic Safety Administration](https://www.nhtsa.gov/file-downloads?p=nhtsa/downloads/FARS/) or NHTSA website. The data is comprised of 33 tables. However, 8 tables were used to answer our questions. Before doing our analysis, the data had to go through a cleaning process where the necessary number of columns were selected from every table."
   ],
   "id": "4707e991110d22ae"
  },
  {
   "metadata": {},
   "cell_type": "markdown",
   "source": [
    "### **2.b Entity-Relationship Diagram (ERD)**\n",
    " \n",
    "The image below shows the entity-relationship diagram or ERD of the database used in this project. The ERD picture the relationship below all the tables in the database. This helps us understand the structure of the database and also understand how we can link different tables together. Note that the ERD below only shows a couple of columns for some of the tables. The reason behind this is to make sure everything is visible on the image."
   ],
   "id": "ee15dbb8a703eaf1"
  },
  {
   "metadata": {},
   "cell_type": "markdown",
   "source": [
    "\n",
    "<img src=\"Assets/msba_capston_diagram.png\" alt=\"drawing\" width=\"1000\"/>\n",
    "\n",
    "<p>.</p>"
   ],
   "id": "63fbd2d990fbbfa4"
  },
  {
   "metadata": {
    "ExecuteTime": {
     "end_time": "2024-06-09T23:04:48.574295Z",
     "start_time": "2024-06-09T23:04:48.571531Z"
    }
   },
   "cell_type": "code",
   "source": "",
   "id": "bf5ae9e1c88bb70a",
   "outputs": [],
   "execution_count": 1
  },
  {
   "metadata": {},
   "cell_type": "markdown",
   "source": [
    "## **3. Exploratory Data Analysis**\n",
    "\n",
    "### **3.a There has been an Upward Trend in the total fatalities on the U.S.A. from 2010 to 2022**\n",
    "\n",
    "Although the number of fatalities slightly decreased (**-1.68%**) in 2022 compared to 2021, the total number of death due to road traffic is huge and needs to be addressed as soon as possible. There were a total of **42,514 individuals who died in 2022**."
   ],
   "id": "7de21ca9b05f48d6"
  },
  {
   "metadata": {},
   "cell_type": "markdown",
   "source": [
    "<img src=\"Assets/Total Fatalities Over the Years, from 2010 to 2022.png\" alt=\"drawing\" width=\"1000\"/>\n",
    "\n",
    "<p>.</p>"
   ],
   "id": "f49b739d26f9fef7"
  },
  {
   "metadata": {},
   "cell_type": "markdown",
   "source": [
    "In 2010, the total number of road fatalities stood at 32,999. This figure remained relatively stable over the next few years, with minor fluctuations observed until 2014. This stability suggests that existing road safety measures during this period were relatively effective in maintaining a consistent number of fatalities.\n",
    "\n",
    "Starting from 2015, there is a noticeable and steady increase in the number of road fatalities. This upward trend continues, reaching its peak in 2021 with a total of 43,230 fatalities. The increase during this period raises significant concerns about the effectiveness of road safety policies and the potential impact of other factors such as increased vehicle usage, distracted driving, or infrastructure issues.\n",
    "\n",
    "In 2022, there is a slight decrease in road fatalities to 42,514, down from the peak observed in the previous year. While this reduction is a positive sign, the overall number of fatalities remains high, indicating that further measures are necessary to achieve a more substantial and sustained decrease.\n",
    "\n",
    "The trend in US road fatalities from 2010 to 2022 highlights both periods of stability and significant increases, culminating in a peak in 2021. Despite a slight reduction in 2022, the overall trend underscores the critical need for comprehensive and proactive approaches to road safety to protect lives and reduce the number of fatalities on US roads."
   ],
   "id": "8810661d50723564"
  },
  {
   "metadata": {},
   "cell_type": "markdown",
   "source": [
    "### **3.b How do traffic fatalities vary by demographic factors such as age, gender, and location?**\n",
    "\n"
   ],
   "id": "494f6e9c152cb95b"
  },
  {
   "metadata": {},
   "cell_type": "markdown",
   "source": [
    "# **73.25%**\n",
    "of people who died in a car accident in 2022 in the USA were **males** compared to only 26.75% of females."
   ],
   "id": "6d916b69373b569c"
  },
  {
   "metadata": {},
   "cell_type": "markdown",
   "source": [
    "# **59.15%**\n",
    "of fatalities on US roads happened in **urban** areas compared to 40.85% in rural areas"
   ],
   "id": "6788a4e76805899e"
  },
  {
   "metadata": {},
   "cell_type": "markdown",
   "source": [
    "<img src=\"Assets/Total Number of Fatalities by Age Groups.png\" alt=\"drawing\" width=\"1000\"/>\n",
    "\n",
    "<p>.</p>"
   ],
   "id": "1ec8a2e9096fd594"
  },
  {
   "metadata": {
    "ExecuteTime": {
     "end_time": "2024-06-20T19:39:34.806224Z",
     "start_time": "2024-06-20T19:39:34.730441Z"
    }
   },
   "cell_type": "code",
   "source": "",
   "id": "66203be68b9e06a1",
   "outputs": [],
   "execution_count": 31
  },
  {
   "metadata": {},
   "cell_type": "code",
   "outputs": [],
   "execution_count": null,
   "source": "",
   "id": "9aa1b4ab334a30cd"
  },
  {
   "metadata": {},
   "cell_type": "code",
   "outputs": [],
   "execution_count": null,
   "source": "",
   "id": "20db7a8aa39a851c"
  }
 ],
 "metadata": {
  "kernelspec": {
   "display_name": "Python 3",
   "language": "python",
   "name": "python3"
  },
  "language_info": {
   "codemirror_mode": {
    "name": "ipython",
    "version": 2
   },
   "file_extension": ".py",
   "mimetype": "text/x-python",
   "name": "python",
   "nbconvert_exporter": "python",
   "pygments_lexer": "ipython2",
   "version": "2.7.6"
  }
 },
 "nbformat": 4,
 "nbformat_minor": 5
}
