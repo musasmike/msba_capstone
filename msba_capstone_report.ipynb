{
    "metadata": {
        "kernelspec": {
            "name": "SQL",
            "display_name": "SQL",
            "language": "sql"
        },
        "language_info": {
            "name": "sql",
            "version": ""
        }
    },
    "nbformat_minor": 2,
    "nbformat": 4,
    "cells": [
        {
            "cell_type": "markdown",
            "source": [
                "# **Reducing Traffic Mortality in the USA**\n",
                "\n",
                "Note that the data used for this report is from the year 2022\n",
                "\n",
                "By **Mike Musas**    |    *August 10, 2024*"
            ],
            "metadata": {
                "azdata_cell_guid": "20df85f4-a764-42e8-bb3f-67f9b0051676"
            }
        },
        {
            "cell_type": "markdown",
            "source": [
                "## **1. Introduction**\n",
                "\n",
                "Traffic mortality has been a public health issue in the United States, with thousands of individuals dying each year due to various factors contributing to road accidents. This project aims to identify the leading causes of traffic fatalities and recommend effective strategies to reduce the number of deaths on American roads.\n",
                "\n",
                "The project will examine the leading contributors to traffic fatalities, including speeding, drunk driving, and distracted driving. Speeding remains one of the most significant factors, as higher speeds reduce the driver’s ability to react to sudden changes and increase the severity of accidents. Drunk driving is another major cause, with impaired judgment and delayed reaction times leading to a higher likelihood of crashes. Distracted driving, often due to mobile phone use or other in-vehicle distractions, has also emerged as a critical concern in recent years.\n",
                "\n",
                "**The project also aims to answer the following questions:**\n",
                "\n",
                "* How has the total number of traffic fatalities changed over the past years?\n",
                "* What are the age and gender distributions of traffic mortality victims?\n",
                "* How does traffic mortality vary by state or region?\n",
                "* Do the number of fatalities correlates with the population of regions?\n",
                "* How does the fatality rate varies between rural and urban areas?\n",
                "* What are the leading causes of traffic fatalities in the USA in 2022?\n",
                "\n",
                "To answer all these questions, we are making use of Tableau desktop (for data visualization and also to create our report) and Bigquery (to create our database and store all the tables we are using)."
            ],
            "metadata": {
                "azdata_cell_guid": "3d8e6581-a58a-4f62-b3fe-26dcc59d707d"
            }
        },
        {
            "cell_type": "markdown",
            "source": [
                "## **2. About the Data**\n",
                "\n",
                "### **2.a Database and Source**\n",
                "\n",
                "The data used to answer the project’s questions come from the [National Highway Traffic Safety Administration](https://www.nhtsa.gov/file-downloads?p=nhtsa/downloads/FARS/) or NHTSA website. The data is comprised of 33 tables. However, 8 tables were used to answer our questions. Before doing our analysis, the data had to go through a cleaning process where the necessary number of columns were selected from every table."
            ],
            "metadata": {
                "azdata_cell_guid": "be3bf427-1449-4e35-940b-e6fb58060b43"
            }
        },
        {
            "cell_type": "markdown",
            "source": [
                "### **2.b Entity-Relationship Diagram (ERD)**\n",
                " \n",
                "The image below shows the entity-relationship diagram or ERD of the database used in this project. The ERD picture the relationship below all the tables in the database. This helps us understand the structure of the database and also understand how we can link different tables together. Note that the ERD below only shows a couple of columns for some of the tables. The reason behind this is to make sure everything is visible on the image."
            ],
            "metadata": {
                "azdata_cell_guid": "0ac5a953-b04e-4971-85ac-5e6e14940176"
            }
        },
        {
            "cell_type": "markdown",
            "source": [
                "\n",
                "<img src=\"/Users/mikemusas/Documents/DataProjects/msba_capstone/Assets/msba_capston_diagram.png\" alt=\"drawing\" width=\"1000\"/>\n",
                "\n",
                "<p>.</p>"
            ],
            "metadata": {
                "azdata_cell_guid": "5aa8bdc8-9bdb-43d9-9777-26beaeff9d57"
            },
            "attachments": {}
        },
        {
            "cell_type": "markdown",
            "source": [
                "## **3. Exploratory Data Analysis**\n",
                "\n",
                "### **3.a There has been an Upward Trend in the total fatalities on the U.S.A. from 2010 to 2022**\n",
                "\n",
                "Although the number of fatalities slightly decreased (**-1.68%**) in 2022 compared to 2021, the total number of death due to road traffic is huge and needs to be addressed as soon as possible. There were a total of **42,514 individuals who died in 2022**."
            ],
            "metadata": {
                "azdata_cell_guid": "fd0412e3-6cc6-4410-86b7-89ecabce18ff"
            }
        },
        {
            "cell_type": "markdown",
            "source": [
                "<img src=\"/Users/mikemusas/Documents/DataProjects/msba_capstone/Assets/Total Fatalities Over the Years, from 2010 to 2022.png\" alt=\"drawing\" width=\"1000\"/>\n",
                "\n",
                "<p>.</p>"
            ],
            "metadata": {
                "azdata_cell_guid": "29413108-7c1b-4e1b-9e31-26e8c747d940"
            },
            "attachments": {}
        },
        {
            "cell_type": "markdown",
            "source": [
                "In 2010, the total number of road fatalities stood at 32,999. This figure remained relatively stable over the next few years, with minor fluctuations observed until 2014. This stability suggests that existing road safety measures during this period were relatively effective in maintaining a consistent number of fatalities.\n",
                "\n",
                "Starting from 2015, there is a noticeable and steady increase in the number of road fatalities. This upward trend continues, reaching its peak in 2021 with a total of 43,230 fatalities. The increase during this period raises significant concerns about the effectiveness of road safety policies and the potential impact of other factors such as increased vehicle usage, distracted driving, or infrastructure issues.\n",
                "\n",
                "In 2022, there is a slight decrease in road fatalities to 42,514, down from the peak observed in the previous year. While this reduction is a positive sign, the overall number of fatalities remains high, indicating that further measures are necessary to achieve a more substantial and sustained decrease.\n",
                "\n",
                "The trend in US road fatalities from 2010 to 2022 highlights both periods of stability and significant increases, culminating in a peak in 2021. Despite a slight reduction in 2022, the overall trend underscores the critical need for comprehensive and proactive approaches to road safety to protect lives and reduce the number of fatalities on US roads."
            ],
            "metadata": {
                "azdata_cell_guid": "41271027-dfc2-4b77-ae56-4a1a2310bd31"
            }
        },
        {
            "cell_type": "markdown",
            "source": [
                "### **3.b How do traffic fatalities vary by demographic factors such as age, gender, and location?**\n",
                "\n"
            ],
            "metadata": {
                "azdata_cell_guid": "59126a59-4755-45df-b0fb-2d2d824cf133"
            }
        },
        {
            "cell_type": "code",
            "source": [
                "USE NHTSARoadFatalities;\n",
                "\n",
                "WITH results (SEX, total_fatalities)\n",
                "AS (\n",
                "    SELECT\n",
                "        p.SEX,\n",
                "        COUNT(*) AS total_fatalities\n",
                "    FROM accidents AS a\n",
                "    INNER JOIN persons AS p\n",
                "        ON a.ST_CASE = p.ST_CASE\n",
                "    WHERE p.DIED_AT_SCENE_EN_ROUTE IN ('Died at Scene', 'Died En Route')\n",
                "            AND p.SEX IN ('Male', 'Female')\n",
                "            AND p.AGE < 120\n",
                "    GROUP BY p.SEX\n",
                ")\n",
                "SELECT\n",
                "    SEX,\n",
                "    total_fatalities,\n",
                "    total_fatalities * 1.0 / (SELECT SUM(total_fatalities) FROM results) * 100 AS percentage_of_total\n",
                "FROM results;\n",
                ""
            ],
            "metadata": {
                "azdata_cell_guid": "b85a1969-ce64-44c9-91e4-9ee5159b91ed",
                "language": "sql"
            },
            "outputs": [
                {
                    "output_type": "display_data",
                    "data": {
                        "text/html": "(2 rows affected)"
                    },
                    "metadata": {}
                },
                {
                    "output_type": "display_data",
                    "data": {
                        "text/html": "Total execution time: 00:00:00.062"
                    },
                    "metadata": {}
                },
                {
                    "output_type": "execute_result",
                    "metadata": {},
                    "execution_count": 44,
                    "data": {
                        "application/vnd.dataresource+json": {
                            "schema": {
                                "fields": [
                                    {
                                        "name": "SEX"
                                    },
                                    {
                                        "name": "total_fatalities"
                                    },
                                    {
                                        "name": "percentage_of_total"
                                    }
                                ]
                            },
                            "data": [
                                {
                                    "SEX": "Female",
                                    "total_fatalities": "6540",
                                    "percentage_of_total": "26.749560309200"
                                },
                                {
                                    "SEX": "Male",
                                    "total_fatalities": "17909",
                                    "percentage_of_total": "73.250439690700"
                                }
                            ]
                        },
                        "text/html": [
                            "<table>",
                            "<tr><th>SEX</th><th>total_fatalities</th><th>percentage_of_total</th></tr>",
                            "<tr><td>Female</td><td>6540</td><td>26.749560309200</td></tr>",
                            "<tr><td>Male</td><td>17909</td><td>73.250439690700</td></tr>",
                            "</table>"
                        ]
                    }
                }
            ],
            "execution_count": 44
        },
        {
            "cell_type": "markdown",
            "source": [
                "# **73.25%**\n",
                "of people who died in a car accident in 2022 in the USA were **males** compared to only 26.75% of females."
            ],
            "metadata": {
                "azdata_cell_guid": "81382eff-b6bd-46ad-a804-66a67e734758"
            }
        },
        {
            "cell_type": "code",
            "source": [
                "USE NHTSARoadFatalities;\n",
                "\n",
                "SELECT\n",
                "    DISTINCT RURAL_URBAN\n",
                "FROM accidents;"
            ],
            "metadata": {
                "azdata_cell_guid": "835c79e2-86bd-43cd-be9b-d916d378b9ff",
                "language": "sql"
            },
            "outputs": [
{
    "output_type": "display_data",
    "data": {
        "text/html": "(3 rows affected)"
    },
    "metadata": {}
}, {
    "output_type": "display_data",
    "data": {
        "text/html": "Total execution time: 00:00:00.091"
    },
    "metadata": {}
}, {
    "output_type": "execute_result",
    "metadata": {},
    "execution_count": 45,
    "data": {
        "application/vnd.dataresource+json": {
            "schema": {
                "fields": [
                    {
                        "name": "RURAL_URBAN"
                    }
                ]
            },
            "data": [
                {
                    "RURAL_URBAN": "NULL"
                },
                {
                    "RURAL_URBAN": "Urban"
                },
                {
                    "RURAL_URBAN": "Rural"
                }
            ]
        },
        "text/html": [
            "<table>",
            "<tr><th>RURAL_URBAN</th></tr>",
            "<tr><td>NULL</td></tr>",
            "<tr><td>Urban</td></tr>",
            "<tr><td>Rural</td></tr>",
            "</table>"
        ]
    }
}
],
            "execution_count": 45
        },
        {
            "cell_type": "code",
            "source": [
                "USE NHTSARoadFatalities;\n",
                "\n",
                "SELECT\n",
                "    RURAL_URBAN,\n",
                "    SUM(FATALS) AS total_fatalities,\n",
                "    COUNT(*) * 1.0 / (SELECT COUNT(*) FROM accidents WHERE RURAL_URBAN IS NOT NULL) AS percentage\n",
                "FROM accidents\n",
                "WHERE RURAL_URBAN IS NOT NULL\n",
                "GROUP BY RURAL_URBAN;\n",
                "\n",
                "\n",
                "SELECT\n",
                "        rur_urb,\n",
                "        COUNT(*) AS total_accidents,\n",
                "        ROUND(COUNT(*) / (SELECT COUNT(*) FROM NHTSA.accidents WHERE rur_urb != 'Unknown'), 2) AS percentage_accidents,\n",
                "        SUM(fatals) AS total_fatalities,\n",
                "        ROUND(SUM(fatals) / (SELECT SUM(fatals) FROM NHTSA.accidents WHERE rur_urb != 'Unknown'), 4) AS percentage_fatalities\n",
                "    FROM NHTSA.accidents\n",
                "    WHERE rur_urb IS NOT NULL\n",
                "    GROUP BY rur_urb;"
            ],
            "metadata": {
                "azdata_cell_guid": "3b4484dc-adf2-481b-989f-046a64fe9a63",
                "language": "sql"
            },
            "outputs": [],
            "execution_count": null
        },
        {
            "cell_type": "markdown",
            "source": [
                "# **59.15%**\n",
                "of fatalities on US roads happened in **urban** areas compared to 40.85% in rural areas"
            ],
            "metadata": {
                "azdata_cell_guid": "070bbd70-ee3d-444f-be94-6f85d22aeb84"
            }
        },
        {
            "cell_type": "markdown",
            "source": [
                "<img src=\"/Users/mikemusas/Documents/DataProjects/msba_capstone/Assets/Total Number of Fatalities by Age Groups.png\" alt=\"drawing\" width=\"1000\"/>\n",
                "\n",
                "<p>.</p>"
            ],
            "metadata": {
                "azdata_cell_guid": "e41d8d86-f70c-4bb4-b8dd-ca9ffebe370c"
            },
            "attachments": {}
        },
        {
            "cell_type": "markdown",
            "source": [
                "The distribution of traffic fatalities across different age ranges shows that certain age groups are more vulnerable than others. **The data reveals tha the highest number of fatalities occurs in the age group 24 to 36, followed by 12 to 24 and 36 to 48**. It can also be seen that these are groups are made of young individuals. These age groups should be prioritized for targeted interventions.\n",
                "\n",
                "Young people are more prompt to be in front of the car wheel compare to other groups. This is also one reason the top three groups are young. We should make sure that our young population is well informed and educated about the risks and consequencies of not following traffic laws. \n",
                "\n",
                "The group with the smallest number of fatalities were olders and children. A total of 1,602 helder people died in 2022 due on the road were 84 years old or older, they are making 3.77% of the total fatalities while children under the age of 12 years old or below made 10.41%. Most individuals tend to driver very careful when there is a child in the car compared to when there is not."
            ],
            "metadata": {
                "azdata_cell_guid": "87710894-3aef-4d0e-b93a-b1c95dca4c78"
            }
        },
        {
            "cell_type": "markdown",
            "source": [
                "<img src=\"/Users/mikemusas/Documents/DataProjects/msba_capstone/Assets/Total Number of Fatalities by State.png\" alt=\"drawing\" width=\"1000\"/>\n",
                "\n",
                "<p>.</p>"
            ],
            "metadata": {
                "azdata_cell_guid": "abf8d2fd-59e4-4afa-95bf-2f3b1b51218f"
            },
            "attachments": {}
        },
        {
            "cell_type": "markdown",
            "source": [
                "Most of the fatalities in the USA are in these three states California, Texas, and Florida. These states make 29.09% of the road fatalities. Their total of fatalities were 4,428, 4,408, and 3,530, which makes the state of California as the leading state.\n",
                "The District of Columbia showed the lowest number of deaths in the year 2022, with only 32 people who died on the road. The state is followed by the Rhode Island and Vermont states, with 52 and 76 deaths respectively."
            ],
            "metadata": {
                "azdata_cell_guid": "b2d15dd7-e6a0-4853-a26c-29239183af3f"
            }
        },
        {
            "cell_type": "markdown",
            "source": [
                "<img src=\"/Users/mikemusas/Documents/DataProjects/msba_capstone/Assets/Total Road Fatalities by Population Size.png\" alt=\"drawing\" width=\"1000\"/>\n",
                "\n",
                "<p>.</p>"
            ],
            "metadata": {
                "azdata_cell_guid": "a21da0d8-fcb7-4213-83ee-f367ba042351"
            },
            "attachments": {}
        },
        {
            "cell_type": "markdown",
            "source": [
                "It can also been seen in the graph above that there is a strong correlation between the total population of a state and the total road fatalities. States with high density population tend to experience a lot of road traffic deaths. The leading states are again California, Texas, and Florida. These states have a high population density, having 39, 30, and 22 million people respectively. These three states represent 27.40% of the USA total population."
            ],
            "metadata": {
                "azdata_cell_guid": "e5e9765b-b122-4f80-a5ff-62130c5b9d98"
            }
        },
        {
            "cell_type": "markdown",
            "source": [
                "### **3.c Major Causes of Road Traffic Fatalities in the USA in 2022**"
            ],
            "metadata": {
                "azdata_cell_guid": "c21db277-1cb3-48ce-87ec-953c5a8314db"
            }
        },
        {
            "cell_type": "markdown",
            "source": [
                "<img src=\"/Users/mikemusas/Documents/DataProjects/msba_capstone/Assets/Total Number of Fatalities by Distractions.png\" alt=\"drawing\" width=\"1000\"/>\n",
                "\n",
                "<p>.</p>"
            ],
            "metadata": {
                "azdata_cell_guid": "6577426a-7d7d-4f57-9408-4d3c85875aa9"
            },
            "attachments": {}
        },
        {
            "cell_type": "markdown",
            "source": [
                "Distractions while driving account for a large portion of road fatalities. Inattentive driving stands out as the most significant contributor, with a staggering 1,388 fatalities. This issue often stems from drivers losing focus on the road, whether due to fatigue, zoning out, or simply not paying enough attention. Closely following, distracted or careless driving claims 664 lives, illustrating how critical it is for drivers to maintain full attention on the task at hand.\n",
                "\n",
                "External distractions, such as being distracted by other people, objects, or events outside the vehicle, cause 289 fatalities. These distractions can range from roadside billboards to accidents on the other side of the highway. The use of mobile phones while driving is another major culprit, with 157 fatalities resulting from manipulating mobile phones and 131 from other mobile phone-related distractions. Even conversations with passengers can lead to fatal outcomes, with 131 fatalities attributed to distractions caused by other occupants in the vehicle.\n",
                "\n",
                "Using other vehicle components or controls integral to the vehicle leads to 133 fatalities, highlighting the risks involved in adjusting settings while driving. Additionally, activities such as eating or drinking, which may seem harmless, result in 49 fatalities. Adjusting audio or climate controls, lost in thought or daydreaming, objects moving inside the vehicle, and smoking are other distractions that contribute to the death toll, albeit in smaller numbers."
            ],
            "metadata": {
                "azdata_cell_guid": "0e33a41d-91ca-4eba-9d76-21513c546bc5"
            }
        },
        {
            "cell_type": "markdown",
            "source": [
                "<img src=\"/Users/mikemusas/Documents/DataProjects/msba_capstone/Assets/Total Fatalities by Violations.png\" alt=\"drawing\" width=\"1000\"/>\n",
                "\n",
                "<p>.</p>"
            ],
            "metadata": {
                "azdata_cell_guid": "7a7686d3-531e-44a6-b439-9489423dd3ef"
            },
            "attachments": {}
        },
        {
            "cell_type": "markdown",
            "source": [
                "Various traffic violations also contribute heavily to road fatalities. Manslaughter or homicide leads to 1,545 deaths, often resulting from extreme cases of reckless or aggressive driving. Driving while intoxicated, whether by alcohol or drugs, results in 1,359 fatalities, reinforcing the lethal combination of impaired driving and substance abuse.\n",
                "\n",
                "Failure to yield, a common traffic violation, causes 647 fatalities. This often happens when drivers do not give the right of way to other vehicles or pedestrians, leading to severe collisions. Inattentive, careless, or improper driving accounts for 612 fatalities, further highlighting the importance of maintaining focus and following traffic rules.\n",
                "\n",
                "Other driver license violations, including driving without a valid license, lead to 574 fatalities. Hit-and-run incidents, where drivers flee the scene of an accident, result in 498 fatalities. Such actions not only cause deaths but also reflect severe legal and ethical breaches. Willful reckless driving, including actions that endanger others, results in 478 fatalities, while serious violations resulting in death account for 468 fatalities.\n",
                "\n",
                "Lane violations, such as improper lane changes or not staying within designated lanes, cause 417 fatalities. Driving uninsured vehicles leads to 398 fatalities, emphasizing the necessity of legal compliance and responsible vehicle ownership."
            ],
            "metadata": {
                "azdata_cell_guid": "7c38d04a-e6e0-4073-9f68-ee455bdd4f59"
            }
        },
        {
            "cell_type": "markdown",
            "source": [
                "<img src=\"/Users/mikemusas/Documents/DataProjects/msba_capstone/Assets/Top Drugs Involved in Accidents.png\" alt=\"drawing\" width=\"1000\"/>\n",
                "\n",
                "<p>.</p>"
            ],
            "metadata": {
                "azdata_cell_guid": "f91fe028-dca7-4394-85ce-5122840b2308"
            },
            "attachments": {}
        },
        {
            "cell_type": "markdown",
            "source": [
                "Drug use significantly exacerbates the risk of road accidents. Delta 9-tetrahydrocannabinol (THC), the psychoactive component of cannabis, is the most common drug involved in accidents, with 4,217 cases. This is followed by 11-nor-9-carboxy-delta-9-tetrahydrocannabinol (Carboxy THC), another cannabis metabolite, present in 3,633 cases. The prevalence of cannabis-related substances underscores the impact of marijuana on driving safety.\n",
                "\n",
                "Stimulants like amphetamines and methamphetamines are also major contributors, involved in 2,923 and 2,918 cases, respectively. These drugs can cause erratic behavior and impaired judgment, leading to dangerous driving conditions. The presence of Hydroxy-THC in 1,984 cases and unknown cannabinoids in 1,569 cases further emphasizes the widespread use of cannabis-related substances.\n",
                "\n",
                "Surprisingly, caffeine, typically consumed to enhance alertness, is involved in 1,564 cases. This could be due to excessive consumption leading to jitteriness or other adverse effects. Fentanyl, a powerful opioid, is present in 1,412 cases, highlighting the dangers of driving under the influence of strong painkillers. Other drugs like benzoylecgonine, a cocaine metabolite, and cocaine itself are involved in 1,222 and 1,131 cases, respectively, indicating the significant role of illicit drugs in road accidents."
            ],
            "metadata": {
                "azdata_cell_guid": "55f9089e-280d-4bbf-84b4-7d8759ac1b5e"
            }
        },
        {
            "cell_type": "markdown",
            "source": [
                "<img src=\"/Users/mikemusas/Documents/DataProjects/msba_capstone/Assets/Percentage of Fatalities by Speeding.png\" alt=\"drawing\" width=\"1000\"/>\n",
                "\n",
                "<p>.</p>"
            ],
            "metadata": {
                "azdata_cell_guid": "2749666e-3661-4d5d-a3aa-f196ddbac1c7"
            },
            "attachments": {}
        },
        {
            "cell_type": "markdown",
            "source": [
                "<img src=\"/Users/mikemusas/Documents/DataProjects/msba_capstone/Assets/Percentage of Fatalities by Impairments.png\" alt=\"drawing\" width=\"1000\"/>\n",
                "\n",
                "<p>.</p>"
            ],
            "metadata": {
                "azdata_cell_guid": "40fd123b-17f6-4fc8-b1d1-24cdbadbab05"
            },
            "attachments": {}
        },
        {
            "cell_type": "code",
            "source": [
                ""
            ],
            "metadata": {
                "ExecuteTime": {
                    "end_time": "2024-06-20T19:39:34.806224Z",
                    "start_time": "2024-06-20T19:39:34.730441Z"
                },
                "azdata_cell_guid": "48d3beb8-fb38-44db-9d1d-b81a40ea481c",
                "language": "sql"
            },
            "outputs": [],
            "execution_count": 31
        },
        {
            "cell_type": "code",
            "source": [
                ""
            ],
            "metadata": {
                "azdata_cell_guid": "9adac7d2-2cf8-4fd1-8317-89c2a3d9799e",
                "language": "sql"
            },
            "outputs": [],
            "execution_count": null
        },
        {
            "cell_type": "code",
            "source": [
                ""
            ],
            "metadata": {
                "azdata_cell_guid": "4e5527f2-f309-4ab9-9476-e74e2eff662e",
                "language": "sql"
            },
            "outputs": [],
            "execution_count": null
        }
    ]
}